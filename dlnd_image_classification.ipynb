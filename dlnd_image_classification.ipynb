{
 "cells": [
  {
   "cell_type": "markdown",
   "metadata": {
    "collapsed": true
   },
   "source": [
    "# Image Classification\n",
    "In this project, you'll classify images from the [CIFAR-10 dataset](https://www.cs.toronto.edu/~kriz/cifar.html).  The dataset consists of airplanes, dogs, cats, and other objects. You'll preprocess the images, then train a convolutional neural network on all the samples. The images need to be normalized and the labels need to be one-hot encoded.  You'll get to apply what you learned and build a convolutional, max pooling, dropout, and fully connected layers.  At the end, you'll get to see your neural network's predictions on the sample images.\n",
    "## Get the Data\n",
    "Run the following cell to download the [CIFAR-10 dataset for python](https://www.cs.toronto.edu/~kriz/cifar-10-python.tar.gz)."
   ]
  },
  {
   "cell_type": "code",
   "execution_count": 1,
   "metadata": {},
   "outputs": [
    {
     "name": "stdout",
     "output_type": "stream",
     "text": [
      "All files found!\n"
     ]
    }
   ],
   "source": [
    "\"\"\"\n",
    "DON'T MODIFY ANYTHING IN THIS CELL THAT IS BELOW THIS LINE\n",
    "\"\"\"\n",
    "from urllib.request import urlretrieve\n",
    "from os.path import isfile, isdir\n",
    "from tqdm import tqdm\n",
    "import problem_unittests as tests\n",
    "import tarfile\n",
    "\n",
    "cifar10_dataset_folder_path = 'cifar-10-batches-py'\n",
    "\n",
    "class DLProgress(tqdm):\n",
    "    last_block = 0\n",
    "\n",
    "    def hook(self, block_num=1, block_size=1, total_size=None):\n",
    "        self.total = total_size\n",
    "        self.update((block_num - self.last_block) * block_size)\n",
    "        self.last_block = block_num\n",
    "\n",
    "if not isfile('cifar-10-python.tar.gz'):\n",
    "    with DLProgress(unit='B', unit_scale=True, miniters=1, desc='CIFAR-10 Dataset') as pbar:\n",
    "        urlretrieve(\n",
    "            'https://www.cs.toronto.edu/~kriz/cifar-10-python.tar.gz',\n",
    "            'cifar-10-python.tar.gz',\n",
    "            pbar.hook)\n",
    "\n",
    "if not isdir(cifar10_dataset_folder_path):\n",
    "    with tarfile.open('cifar-10-python.tar.gz') as tar:\n",
    "        tar.extractall()\n",
    "        tar.close()\n",
    "\n",
    "\n",
    "tests.test_folder_path(cifar10_dataset_folder_path)"
   ]
  },
  {
   "cell_type": "markdown",
   "metadata": {},
   "source": [
    "## Explore the Data\n",
    "The dataset is broken into batches to prevent your machine from running out of memory.  The CIFAR-10 dataset consists of 5 batches, named `data_batch_1`, `data_batch_2`, etc.. Each batch contains the labels and images that are one of the following:\n",
    "* airplane\n",
    "* automobile\n",
    "* bird\n",
    "* cat\n",
    "* deer\n",
    "* dog\n",
    "* frog\n",
    "* horse\n",
    "* ship\n",
    "* truck\n",
    "\n",
    "Understanding a dataset is part of making predictions on the data.  Play around with the code cell below by changing the `batch_id` and `sample_id`. The `batch_id` is the id for a batch (1-5). The `sample_id` is the id for a image and label pair in the batch.\n",
    "\n",
    "Ask yourself \"What are all possible labels?\", \"What is the range of values for the image data?\", \"Are the labels in order or random?\".  Answers to questions like these will help you preprocess the data and end up with better predictions."
   ]
  },
  {
   "cell_type": "code",
   "execution_count": 2,
   "metadata": {},
   "outputs": [
    {
     "name": "stdout",
     "output_type": "stream",
     "text": [
      "\n",
      "Stats of batch 3:\n",
      "Samples: 10000\n",
      "Label Counts: {0: 994, 1: 1042, 2: 965, 3: 997, 4: 990, 5: 1029, 6: 978, 7: 1015, 8: 961, 9: 1029}\n",
      "First 20 Labels: [8, 5, 0, 6, 9, 2, 8, 3, 6, 2, 7, 4, 6, 9, 0, 0, 7, 3, 7, 2]\n",
      "\n",
      "Example of Image 400:\n",
      "Image - Min Value: 1 Max Value: 249\n",
      "Image - Shape: (32, 32, 3)\n",
      "Label - Label Id: 8 Name: ship\n"
     ]
    },
    {
     "data": {
      "image/png": "[encoded data removed]",
      "text/plain": [
       "<matplotlib.figure.Figure at 0x20d91cd9d68>"
      ]
     },
     "metadata": {
      "image/png": {
       "height": 250,
       "width": 253
      }
     },
     "output_type": "display_data"
    }
   ],
   "source": [
    "%matplotlib inline\n",
    "%config InlineBackend.figure_format = 'retina'\n",
    "\n",
    "import helper\n",
    "import numpy as np\n",
    "\n",
    "# Explore the dataset\n",
    "batch_id = 3\n",
    "sample_id = 400\n",
    "helper.display_stats(cifar10_dataset_folder_path, batch_id, sample_id)"
   ]
  },
  {
   "cell_type": "markdown",
   "metadata": {},
   "source": [
    "## Implement Preprocess Functions\n",
    "### Normalize\n",
    "In the cell below, implement the `normalize` function to take in image data, `x`, and return it as a normalized Numpy array. The values should be in the range of 0 to 1, inclusive.  The return object should be the same shape as `x`."
   ]
  },
  {
   "cell_type": "code",
   "execution_count": 3,
   "metadata": {},
   "outputs": [
    {
     "name": "stdout",
     "output_type": "stream",
     "text": [
      "Tests Passed\n"
     ]
    }
   ],
   "source": [
    "def normalize(x):\n",
    "    \"\"\"\n",
    "    Normalize a list of sample image data in the range of 0 to 1\n",
    "    : x: List of image data.  The image shape is (32, 32, 3)\n",
    "    : return: Numpy array of normalize data\n",
    "    \"\"\"\n",
    "    # TODO: Implement Function\n",
    "    return np.array((x) / (255))\n",
    "\n",
    "\n",
    "\"\"\"\n",
    "DON'T MODIFY ANYTHING IN THIS CELL THAT IS BELOW THIS LINE\n",
    "\"\"\"\n",
    "tests.test_normalize(normalize)"
   ]
  },
  {
   "cell_type": "markdown",
   "metadata": {},
   "source": [
    "### One-hot encode\n",
    "Just like the previous code cell, you'll be implementing a function for preprocessing.  This time, you'll implement the `one_hot_encode` function. The input, `x`, are a list of labels.  Implement the function to return the list of labels as One-Hot encoded Numpy array.  The possible values for labels are 0 to 9. The one-hot encoding function should return the same encoding for each value between each call to `one_hot_encode`.  Make sure to save the map of encodings outside the function.\n",
    "\n",
    "Hint: Don't reinvent the wheel."
   ]
  },
  {
   "cell_type": "code",
   "execution_count": 4,
   "metadata": {},
   "outputs": [
    {
     "name": "stdout",
     "output_type": "stream",
     "text": [
      "Tests Passed\n"
     ]
    }
   ],
   "source": [
    "from sklearn import preprocessing\n",
    "classes = [0,1,2,3,4,5,6,7,8,9]\n",
    "def one_hot_encode(x):\n",
    "    \"\"\"\n",
    "    One hot encode a list of sample labels. Return a one-hot encoded vector for each label.\n",
    "    : x: List of sample Labels\n",
    "    : return: Numpy array of one-hot encoded labels\n",
    "    \"\"\"\n",
    "    # TODO: Implement Function\n",
    "    lb = preprocessing.LabelBinarizer()\n",
    "    classes = [0,1,2,3,4,5,6,7,8,9]\n",
    "    lb.fit(classes)\n",
    "    return lb.transform(x) \n",
    "\n",
    "\n",
    "\"\"\"\n",
    "DON'T MODIFY ANYTHING IN THIS CELL THAT IS BELOW THIS LINE\n",
    "\"\"\"\n",
    "tests.test_one_hot_encode(one_hot_encode)"
   ]
  },
  {
   "cell_type": "markdown",
   "metadata": {},
   "source": [
    "### Randomize Data\n",
    "As you saw from exploring the data above, the order of the samples are randomized.  It doesn't hurt to randomize it again, but you don't need to for this dataset."
   ]
  },
  {
   "cell_type": "markdown",
   "metadata": {},
   "source": [
    "## Preprocess all the data and save it\n",
    "Running the code cell below will preprocess all the CIFAR-10 data and save it to file. The code below also uses 10% of the training data for validation."
   ]
  },
  {
   "cell_type": "code",
   "execution_count": 5,
   "metadata": {},
   "outputs": [],
   "source": [
    "\"\"\"\n",
    "DON'T MODIFY ANYTHING IN THIS CELL\n",
    "\"\"\"\n",
    "# Preprocess Training, Validation, and Testing Data\n",
    "helper.preprocess_and_save_data(cifar10_dataset_folder_path, normalize, one_hot_encode)"
   ]
  },
  {
   "cell_type": "markdown",
   "metadata": {},
   "source": [
    "# Check Point\n",
    "This is your first checkpoint.  If you ever decide to come back to this notebook or have to restart the notebook, you can start from here.  The preprocessed data has been saved to disk."
   ]
  },
  {
   "cell_type": "code",
   "execution_count": 8,
   "metadata": {
    "collapsed": true
   },
   "outputs": [],
   "source": [
    "\"\"\"\n",
    "DON'T MODIFY ANYTHING IN THIS CELL\n",
    "\"\"\"\n",
    "import pickle\n",
    "import problem_unittests as tests\n",
    "import helper\n",
    "\n",
    "# Load the Preprocessed Validation data\n",
    "valid_features, valid_labels = pickle.load(open('preprocess_validation.p', mode='rb'))"
   ]
  },
  {
   "cell_type": "markdown",
   "metadata": {},
   "source": [
    "## Build the network\n",
    "For the neural network, you'll build each layer into a function.  Most of the code you've seen has been outside of functions. To test your code more thoroughly, we require that you put each layer in a function.  This allows us to give you better feedback and test for simple mistakes using our unittests before you submit your project.\n",
    "\n",
    ">**Note:** If you're finding it hard to dedicate enough time for this course each week, we've provided a small shortcut to this part of the project. In the next couple of problems, you'll have the option to use classes from the [TensorFlow Layers](https://www.tensorflow.org/api_docs/python/tf/layers) or [TensorFlow Layers (contrib)](https://www.tensorflow.org/api_guides/python/contrib.layers) packages to build each layer, except the layers you build in the \"Convolutional and Max Pooling Layer\" section.  TF Layers is similar to Keras's and TFLearn's abstraction to layers, so it's easy to pickup.\n",
    "\n",
    ">However, if you would like to get the most out of this course, try to solve all the problems _without_ using anything from the TF Layers packages. You **can** still use classes from other packages that happen to have the same name as ones you find in TF Layers! For example, instead of using the TF Layers version of the `conv2d` class, [tf.layers.conv2d](https://www.tensorflow.org/api_docs/python/tf/layers/conv2d), you would want to use the TF Neural Network version of `conv2d`, [tf.nn.conv2d](https://www.tensorflow.org/api_docs/python/tf/nn/conv2d). \n",
    "\n",
    "Let's begin!\n",
    "\n",
    "### Input\n",
    "The neural network needs to read the image data, one-hot encoded labels, and dropout keep probability. Implement the following functions\n",
    "* Implement `neural_net_image_input`\n",
    " * Return a [TF Placeholder](https://www.tensorflow.org/api_docs/python/tf/placeholder)\n",
    " * Set the shape using `image_shape` with batch size set to `None`.\n",
    " * Name the TensorFlow placeholder \"x\" using the TensorFlow `name` parameter in the [TF Placeholder](https://www.tensorflow.org/api_docs/python/tf/placeholder).\n",
    "* Implement `neural_net_label_input`\n",
    " * Return a [TF Placeholder](https://www.tensorflow.org/api_docs/python/tf/placeholder)\n",
    " * Set the shape using `n_classes` with batch size set to `None`.\n",
    " * Name the TensorFlow placeholder \"y\" using the TensorFlow `name` parameter in the [TF Placeholder](https://www.tensorflow.org/api_docs/python/tf/placeholder).\n",
    "* Implement `neural_net_keep_prob_input`\n",
    " * Return a [TF Placeholder](https://www.tensorflow.org/api_docs/python/tf/placeholder) for dropout keep probability.\n",
    " * Name the TensorFlow placeholder \"keep_prob\" using the TensorFlow `name` parameter in the [TF Placeholder](https://www.tensorflow.org/api_docs/python/tf/placeholder).\n",
    "\n",
    "These names will be used at the end of the project to load your saved model.\n",
    "\n",
    "Note: `None` for shapes in TensorFlow allow for a dynamic size."
   ]
  },
  {
   "cell_type": "code",
   "execution_count": 9,
   "metadata": {},
   "outputs": [
    {
     "name": "stdout",
     "output_type": "stream",
     "text": [
      "Image Input Tests Passed.\n",
      "Label Input Tests Passed.\n",
      "Keep Prob Tests Passed.\n"
     ]
    }
   ],
   "source": [
    "import tensorflow as tf\n",
    "\n",
    "def neural_net_image_input(image_shape):\n",
    "    \"\"\"\n",
    "    Return a Tensor for a batch of image input\n",
    "    : image_shape: Shape of the images\n",
    "    : return: Tensor for image input.\n",
    "    \"\"\"\n",
    "    # TODO: Implement Function\n",
    "    return tf.placeholder(tf.float32, shape=[None, *image_shape] , name='x')\n",
    "\n",
    "\n",
    "def neural_net_label_input(n_classes):\n",
    "    \"\"\"\n",
    "    Return a Tensor for a batch of label input\n",
    "    : n_classes: Number of classes\n",
    "    : return: Tensor for label input.\n",
    "    \"\"\"\n",
    "    # TODO: Implement Function\n",
    "    return tf.placeholder(tf.float32, shape=[None, n_classes], name='y')\n",
    "\n",
    "\n",
    "def neural_net_keep_prob_input():\n",
    "    \"\"\"\n",
    "    Return a Tensor for keep probability\n",
    "    : return: Tensor for keep probability.\n",
    "    \"\"\"\n",
    "    # TODO: Implement Function\n",
    "    return tf.placeholder(tf.float32, name=\"keep_prob\")\n",
    "\n",
    "\n",
    "\"\"\"\n",
    "DON'T MODIFY ANYTHING IN THIS CELL THAT IS BELOW THIS LINE\n",
    "\"\"\"\n",
    "tf.reset_default_graph()\n",
    "tests.test_nn_image_inputs(neural_net_image_input)\n",
    "tests.test_nn_label_inputs(neural_net_label_input)\n",
    "tests.test_nn_keep_prob_inputs(neural_net_keep_prob_input)"
   ]
  },
  {
   "cell_type": "markdown",
   "metadata": {},
   "source": [
    "### Convolution and Max Pooling Layer\n",
    "Convolution layers have a lot of success with images. For this code cell, you should implement the function `conv2d_maxpool` to apply convolution then max pooling:\n",
    "* Create the weight and bias using `conv_ksize`, `conv_num_outputs` and the shape of `x_tensor`.\n",
    "* Apply a convolution to `x_tensor` using weight and `conv_strides`.\n",
    " * We recommend you use same padding, but you're welcome to use any padding.\n",
    "* Add bias\n",
    "* Add a nonlinear activation to the convolution.\n",
    "* Apply Max Pooling using `pool_ksize` and `pool_strides`.\n",
    " * We recommend you use same padding, but you're welcome to use any padding.\n",
    "\n",
    "**Note:** You **can't** use [TensorFlow Layers](https://www.tensorflow.org/api_docs/python/tf/layers) or [TensorFlow Layers (contrib)](https://www.tensorflow.org/api_guides/python/contrib.layers) for **this** layer, but you can still use TensorFlow's [Neural Network](https://www.tensorflow.org/api_docs/python/tf/nn) package. You may still use the shortcut option for all the **other** layers."
   ]
  },
  {
   "cell_type": "code",
   "execution_count": 10,
   "metadata": {},
   "outputs": [
    {
     "name": "stdout",
     "output_type": "stream",
     "text": [
      "Tests Passed\n"
     ]
    }
   ],
   "source": [
    "def conv2d_maxpool(x_tensor, conv_num_outputs, conv_ksize, conv_strides, pool_ksize, pool_strides):\n",
    "    \"\"\"\n",
    "    Apply convolution then max pooling to x_tensor\n",
    "    :param x_tensor: TensorFlow Tensor\n",
    "    :param conv_num_outputs: Number of outputs for the convolutional layer\n",
    "    :param conv_ksize: kernal size 2-D Tuple for the convolutional layer\n",
    "    :param conv_strides: Stride 2-D Tuple for convolution\n",
    "    :param pool_ksize: kernal size 2-D Tuple for pool\n",
    "    :param pool_strides: Stride 2-D Tuple for pool\n",
    "    : return: A tensor that represents convolution and max pooling of x_tensor\n",
    "    \"\"\"\n",
    "    # TODO: Implement Function\n",
    "\n",
    "# Image Properties\n",
    "    image_width = 32\n",
    "    image_height = 32\n",
    "    color_channels = 3\n",
    "\n",
    "# Input/Image\n",
    "    input = tf.placeholder(\n",
    "    tf.float32, shape=[None, image_height, image_width, color_channels])\n",
    "    \n",
    "# Weight and bias\n",
    "    weight = tf.Variable(tf.random_normal(\n",
    "        [conv_ksize[0],conv_ksize[1],x_tensor.get_shape().as_list()[3],conv_num_outputs],stddev=0.05))\n",
    "    bias = tf.Variable(tf.zeros(conv_num_outputs))   \n",
    "    \n",
    "# Apply Convolution\n",
    "    conv_layer = tf.nn.conv2d(\n",
    "        x_tensor, \n",
    "        weight, \n",
    "        strides=[1, conv_strides[0], conv_strides[1], 1], \n",
    "        padding='SAME') \n",
    "#tf.nn.conv2d(input, filter, strides, padding, use_cudnn_on_gpu=None, data_format=None, name=None)\n",
    "\n",
    "# Add bias\n",
    "    conv_layer = tf.nn.bias_add(conv_layer, bias)\n",
    "#tf.nn.bias_add(value, bias, data_format=None, name=None)\n",
    "\n",
    "# Apply activation function\n",
    "    conv_layer = tf.nn.relu(conv_layer)\n",
    "#tf.nn.relu(features, name=None)\n",
    "\n",
    "    conv_layer = tf.nn.max_pool(\n",
    "        conv_layer, \n",
    "        ksize=[1, pool_ksize[0], pool_ksize[1], 1], \n",
    "        strides=[1, pool_strides[0], pool_strides[1], 1],\n",
    "        padding='SAME')\n",
    "#tf.nn.max_pool(value, ksize, strides, padding, data_format='NHWC', name=None)\n",
    "\n",
    "    return conv_layer\n",
    "\n",
    "\"\"\"\n",
    "DON'T MODIFY ANYTHING IN THIS CELL THAT IS BELOW THIS LINE\n",
    "\"\"\"\n",
    "tests.test_con_pool(conv2d_maxpool)"
   ]
  },
  {
   "cell_type": "markdown",
   "metadata": {},
   "source": [
    "### Flatten Layer\n",
    "Implement the `flatten` function to change the dimension of `x_tensor` from a 4-D tensor to a 2-D tensor.  The output should be the shape (*Batch Size*, *Flattened Image Size*). Shortcut option: you can use classes from the [TensorFlow Layers](https://www.tensorflow.org/api_docs/python/tf/layers) or [TensorFlow Layers (contrib)](https://www.tensorflow.org/api_guides/python/contrib.layers) packages for this layer. For more of a challenge, only use other TensorFlow packages."
   ]
  },
  {
   "cell_type": "code",
   "execution_count": 11,
   "metadata": {},
   "outputs": [
    {
     "name": "stdout",
     "output_type": "stream",
     "text": [
      "Tests Passed\n"
     ]
    }
   ],
   "source": [
    "def flatten(x_tensor):\n",
    "    \"\"\"\n",
    "    Flatten x_tensor to (Batch Size, Flattened Image Size)\n",
    "    : x_tensor: A tensor of size (Batch Size, ...), where ... are the image dimensions.\n",
    "    : return: A tensor of size (Batch Size, Flattened Image Size).\n",
    "    \"\"\"\n",
    "    # TODO: Implement Function\n",
    "    return tf.contrib.layers.flatten(x_tensor)\n",
    "\n",
    "\n",
    "\"\"\"\n",
    "DON'T MODIFY ANYTHING IN THIS CELL THAT IS BELOW THIS LINE\n",
    "\"\"\"\n",
    "tests.test_flatten(flatten)"
   ]
  },
  {
   "cell_type": "markdown",
   "metadata": {},
   "source": [
    "### Fully-Connected Layer\n",
    "Implement the `fully_conn` function to apply a fully connected layer to `x_tensor` with the shape (*Batch Size*, *num_outputs*). Shortcut option: you can use classes from the [TensorFlow Layers](https://www.tensorflow.org/api_docs/python/tf/layers) or [TensorFlow Layers (contrib)](https://www.tensorflow.org/api_guides/python/contrib.layers) packages for this layer. For more of a challenge, only use other TensorFlow packages."
   ]
  },
  {
   "cell_type": "code",
   "execution_count": 12,
   "metadata": {},
   "outputs": [
    {
     "name": "stdout",
     "output_type": "stream",
     "text": [
      "Tests Passed\n"
     ]
    }
   ],
   "source": [
    "def fully_conn(x_tensor, num_outputs):\n",
    "    \"\"\"\n",
    "    Apply a fully connected layer to x_tensor using weight and bias\n",
    "    : x_tensor: A 2-D tensor where the first dimension is batch size.\n",
    "    : num_outputs: The number of output that the new tensor should be.\n",
    "    : return: A 2-D tensor where the second dimension is num_outputs.\n",
    "    \"\"\"\n",
    "    # TODO: Implement Function\n",
    "    return tf.contrib.layers.fully_connected(x_tensor, num_outputs, activation_fn=tf.nn.relu)\n",
    "\n",
    "\n",
    "\"\"\"\n",
    "DON'T MODIFY ANYTHING IN THIS CELL THAT IS BELOW THIS LINE\n",
    "\"\"\"\n",
    "tests.test_fully_conn(fully_conn)"
   ]
  },
  {
   "cell_type": "markdown",
   "metadata": {},
   "source": [
    "### Output Layer\n",
    "Implement the `output` function to apply a fully connected layer to `x_tensor` with the shape (*Batch Size*, *num_outputs*). Shortcut option: you can use classes from the [TensorFlow Layers](https://www.tensorflow.org/api_docs/python/tf/layers) or [TensorFlow Layers (contrib)](https://www.tensorflow.org/api_guides/python/contrib.layers) packages for this layer. For more of a challenge, only use other TensorFlow packages.\n",
    "\n",
    "**Note:** Activation, softmax, or cross entropy should **not** be applied to this."
   ]
  },
  {
   "cell_type": "code",
   "execution_count": 13,
   "metadata": {},
   "outputs": [
    {
     "name": "stdout",
     "output_type": "stream",
     "text": [
      "Tests Passed\n"
     ]
    }
   ],
   "source": [
    "def output(x_tensor, num_outputs):\n",
    "    \"\"\"\n",
    "    Apply a output layer to x_tensor using weight and bias\n",
    "    : x_tensor: A 2-D tensor where the first dimension is batch size.\n",
    "    : num_outputs: The number of output that the new tensor should be.\n",
    "    : return: A 2-D tensor where the second dimension is num_outputs.\n",
    "    \"\"\"\n",
    "    # TODO: Implement Function\n",
    "    return tf.contrib.layers.fully_connected(x_tensor, num_outputs, activation_fn=None)\n",
    "\n",
    "\n",
    "\"\"\"\n",
    "DON'T MODIFY ANYTHING IN THIS CELL THAT IS BELOW THIS LINE\n",
    "\"\"\"\n",
    "tests.test_output(output)"
   ]
  },
  {
   "cell_type": "markdown",
   "metadata": {},
   "source": [
    "### Create Convolutional Model\n",
    "Implement the function `conv_net` to create a convolutional neural network model. The function takes in a batch of images, `x`, and outputs logits.  Use the layers you created above to create this model:\n",
    "\n",
    "* Apply 1, 2, or 3 Convolution and Max Pool layers\n",
    "* Apply a Flatten Layer\n",
    "* Apply 1, 2, or 3 Fully Connected Layers\n",
    "* Apply an Output Layer\n",
    "* Return the output\n",
    "* Apply [TensorFlow's Dropout](https://www.tensorflow.org/api_docs/python/tf/nn/dropout) to one or more layers in the model using `keep_prob`. "
   ]
  },
  {
   "cell_type": "code",
   "execution_count": 14,
   "metadata": {
    "scrolled": true
   },
   "outputs": [
    {
     "name": "stdout",
     "output_type": "stream",
     "text": [
      "Neural Network Built!\n"
     ]
    }
   ],
   "source": [
    "def conv_net(x, keep_prob):\n",
    "    \"\"\"\n",
    "    Create a convolutional neural network model\n",
    "    : x: Placeholder tensor that holds image data.\n",
    "    : keep_prob: Placeholder tensor that hold dropout keep probability.\n",
    "    : return: Tensor that represents logits\n",
    "    \"\"\"\n",
    "    # TODO: Apply 1, 2, or 3 Convolution and Max Pool layers\n",
    "    #    Play around with different number of outputs, kernel size and stride\n",
    "    # Function Definition from Above:\n",
    "    x_tensor = x\n",
    "    conv_num_outputs = 80\n",
    "    conv_ksize = (2, 2)\n",
    "    conv_strides = (1, 1)\n",
    "    pool_ksize = (2, 2)\n",
    "    pool_strides = (2, 2)\n",
    "    \n",
    "    conv = conv2d_maxpool(x_tensor, conv_num_outputs, conv_ksize, conv_strides, pool_ksize, pool_strides)\n",
    "    \n",
    "    conv_num_outputs = 60\n",
    "    conv_ksize = (3, 3)\n",
    "    conv_strides = (2, 2)\n",
    "    pool_ksize = (3, 3)\n",
    "    pool_strides = (2, 2)\n",
    "    \n",
    "    #conv2 = conv2d_maxpool(conv, conv_num_outputs, conv_ksize, conv_strides, pool_ksize, pool_strides)\n",
    "    \n",
    "    conv_num_outputs = 50\n",
    "    conv_ksize = (6, 6)\n",
    "    conv_strides = (2, 2)\n",
    "    pool_ksize = (4, 4)\n",
    "    pool_strides = (2, 2)\n",
    "    \n",
    "    conv3 = conv2d_maxpool(conv, conv_num_outputs, conv_ksize, conv_strides, pool_ksize, pool_strides)\n",
    "\n",
    "\n",
    "    # TODO: Apply a Flatten Layer\n",
    "    # Function Definition from Above:\n",
    "    flat = flatten(conv3)\n",
    "    \n",
    "\n",
    "    # TODO: Apply 1, 2, or 3 Fully Connected Layers\n",
    "    #    Play around with different number of outputs\n",
    "    # Function Definition from Above:\n",
    "    num_outputs = 400\n",
    "    fc1 = fully_conn(flat, num_outputs)\n",
    "    dropout = tf.nn.dropout(fc1, keep_prob)\n",
    "    num_outputs = 400\n",
    "    fc2 = fully_conn(dropout, num_outputs)\n",
    "    dropout2 = tf.nn.dropout(fc2, keep_prob)\n",
    "    num_outputs = 150\n",
    "    fc3 = fully_conn(dropout2, num_outputs)\n",
    "    \n",
    "    \n",
    "    \n",
    "    # TODO: Apply an Output Layer\n",
    "    #    Set this to the number of classes\n",
    "    # Function Definition from Above:\n",
    "    num_outputs = 10\n",
    "    out = output(fc3, num_outputs)\n",
    "    \n",
    "    \n",
    "    # TODO: return output\n",
    "    return out\n",
    "\n",
    "\n",
    "\"\"\"\n",
    "DON'T MODIFY ANYTHING IN THIS CELL THAT IS BELOW THIS LINE\n",
    "\"\"\"\n",
    "\n",
    "##############################\n",
    "## Build the Neural Network ##\n",
    "##############################\n",
    "\n",
    "# Remove previous weights, bias, inputs, etc..\n",
    "tf.reset_default_graph()\n",
    "\n",
    "# Inputs\n",
    "x = neural_net_image_input((32, 32, 3))\n",
    "y = neural_net_label_input(10)\n",
    "keep_prob = neural_net_keep_prob_input()\n",
    "\n",
    "# Model\n",
    "logits = conv_net(x, keep_prob)\n",
    "\n",
    "# Name logits Tensor, so that is can be loaded from disk after training\n",
    "logits = tf.identity(logits, name='logits')\n",
    "\n",
    "# Loss and Optimizer\n",
    "cost = tf.reduce_mean(tf.nn.softmax_cross_entropy_with_logits(logits=logits, labels=y))\n",
    "optimizer = tf.train.AdamOptimizer().minimize(cost)\n",
    "\n",
    "# Accuracy\n",
    "correct_pred = tf.equal(tf.argmax(logits, 1), tf.argmax(y, 1))\n",
    "accuracy = tf.reduce_mean(tf.cast(correct_pred, tf.float32), name='accuracy')\n",
    "\n",
    "tests.test_conv_net(conv_net)"
   ]
  },
  {
   "cell_type": "markdown",
   "metadata": {},
   "source": [
    "## Train the Neural Network\n",
    "### Single Optimization\n",
    "Implement the function `train_neural_network` to do a single optimization.  The optimization should use `optimizer` to optimize in `session` with a `feed_dict` of the following:\n",
    "* `x` for image input\n",
    "* `y` for labels\n",
    "* `keep_prob` for keep probability for dropout\n",
    "\n",
    "This function will be called for each batch, so `tf.global_variables_initializer()` has already been called.\n",
    "\n",
    "Note: Nothing needs to be returned. This function is only optimizing the neural network."
   ]
  },
  {
   "cell_type": "code",
   "execution_count": 15,
   "metadata": {},
   "outputs": [
    {
     "name": "stdout",
     "output_type": "stream",
     "text": [
      "Tests Passed\n"
     ]
    }
   ],
   "source": [
    "def train_neural_network(session, optimizer, keep_probability, feature_batch, label_batch):\n",
    "    \"\"\"\n",
    "    Optimize the session on a batch of images and labels\n",
    "    : session: Current TensorFlow session\n",
    "    : optimizer: TensorFlow optimizer function\n",
    "    : keep_probability: keep probability\n",
    "    : feature_batch: Batch of Numpy image data\n",
    "    : label_batch: Batch of Numpy label data\n",
    "    \"\"\"\n",
    "    # TODO: Implement Function\n",
    "    session.run(\n",
    "        optimizer,feed_dict={x:feature_batch,y:label_batch,keep_prob:keep_probability})\n",
    "    \n",
    "\n",
    "\n",
    "\n",
    "\"\"\"\n",
    "DON'T MODIFY ANYTHING IN THIS CELL THAT IS BELOW THIS LINE\n",
    "\"\"\"\n",
    "tests.test_train_nn(train_neural_network)"
   ]
  },
  {
   "cell_type": "markdown",
   "metadata": {},
   "source": [
    "### Show Stats\n",
    "Implement the function `print_stats` to print loss and validation accuracy.  Use the global variables `valid_features` and `valid_labels` to calculate validation accuracy.  Use a keep probability of `1.0` to calculate the loss and validation accuracy."
   ]
  },
  {
   "cell_type": "code",
   "execution_count": 16,
   "metadata": {},
   "outputs": [],
   "source": [
    "def print_stats(session, feature_batch, label_batch, cost, accuracy):\n",
    "    \"\"\"\n",
    "    Print information about loss and validation accuracy\n",
    "    : session: Current TensorFlow session\n",
    "    : feature_batch: Batch of Numpy image data\n",
    "    : label_batch: Batch of Numpy label data\n",
    "    : cost: TensorFlow cost function\n",
    "    : accuracy: TensorFlow accuracy function\n",
    "    \"\"\"\n",
    "    # TODO: Implement Function\n",
    "    keep_probability  = 1.0\n",
    "    acc_out = session.run(\n",
    "        accuracy,feed_dict={x:valid_features,y:valid_labels,keep_prob:keep_probability})\n",
    "    cost_out = session.run(\n",
    "        cost,feed_dict={x:feature_batch,y:label_batch,keep_prob:keep_probability})\n",
    "\n",
    "    print (acc_out, cost_out)"
   ]
  },
  {
   "cell_type": "markdown",
   "metadata": {},
   "source": [
    "### Hyperparameters\n",
    "Tune the following parameters:\n",
    "* Set `epochs` to the number of iterations until the network stops learning or start overfitting\n",
    "* Set `batch_size` to the highest number that your machine has memory for.  Most people set them to common sizes of memory:\n",
    " * 64\n",
    " * 128\n",
    " * 256\n",
    " * ...\n",
    "* Set `keep_probability` to the probability of keeping a node using dropout"
   ]
  },
  {
   "cell_type": "code",
   "execution_count": 22,
   "metadata": {
    "collapsed": true
   },
   "outputs": [],
   "source": [
    "# TODO: Tune Parameters\n",
    "epochs = 50\n",
    "batch_size = 1024\n",
    "keep_probability = 0.6"
   ]
  },
  {
   "cell_type": "markdown",
   "metadata": {},
   "source": [
    "### Train on a Single CIFAR-10 Batch\n",
    "Instead of training the neural network on all the CIFAR-10 batches of data, let's use a single batch. This should save time while you iterate on the model to get a better accuracy.  Once the final validation accuracy is 50% or greater, run the model on all the data in the next section."
   ]
  },
  {
   "cell_type": "code",
   "execution_count": 23,
   "metadata": {
    "scrolled": false
   },
   "outputs": [
    {
     "name": "stdout",
     "output_type": "stream",
     "text": [
      "Checking the Training on a Single Batch...\n",
      "Epoch  1, CIFAR-10 Batch 1:  0.224 2.16037\n",
      "Epoch  2, CIFAR-10 Batch 1:  0.2904 1.96956\n",
      "Epoch  3, CIFAR-10 Batch 1:  0.3156 1.88561\n",
      "Epoch  4, CIFAR-10 Batch 1:  0.367 1.71716\n",
      "Epoch  5, CIFAR-10 Batch 1:  0.3934 1.59801\n",
      "Epoch  6, CIFAR-10 Batch 1:  0.4272 1.53138\n",
      "Epoch  7, CIFAR-10 Batch 1:  0.4412 1.42456\n",
      "Epoch  8, CIFAR-10 Batch 1:  0.4598 1.38067\n",
      "Epoch  9, CIFAR-10 Batch 1:  0.4758 1.33191\n",
      "Epoch 10, CIFAR-10 Batch 1:  0.4848 1.28478\n",
      "Epoch 11, CIFAR-10 Batch 1:  0.4964 1.22471\n",
      "Epoch 12, CIFAR-10 Batch 1:  0.5086 1.17027\n",
      "Epoch 13, CIFAR-10 Batch 1:  0.4968 1.20868\n",
      "Epoch 14, CIFAR-10 Batch 1:  0.5328 1.11098\n",
      "Epoch 15, CIFAR-10 Batch 1:  0.5356 1.06255\n",
      "Epoch 16, CIFAR-10 Batch 1:  0.548 1.03929\n",
      "Epoch 17, CIFAR-10 Batch 1:  0.5172 1.0725\n",
      "Epoch 18, CIFAR-10 Batch 1:  0.5488 0.968337\n",
      "Epoch 19, CIFAR-10 Batch 1:  0.5536 0.930205\n",
      "Epoch 20, CIFAR-10 Batch 1:  0.5678 0.906247\n",
      "Epoch 21, CIFAR-10 Batch 1:  0.5568 0.913605\n",
      "Epoch 22, CIFAR-10 Batch 1:  0.5638 0.873707\n",
      "Epoch 23, CIFAR-10 Batch 1:  0.5618 0.860374\n",
      "Epoch 24, CIFAR-10 Batch 1:  0.5912 0.779047\n",
      "Epoch 25, CIFAR-10 Batch 1:  0.583 0.760916\n",
      "Epoch 26, CIFAR-10 Batch 1:  0.5856 0.728878\n",
      "Epoch 27, CIFAR-10 Batch 1:  0.5954 0.693039\n",
      "Epoch 28, CIFAR-10 Batch 1:  0.6004 0.673539\n",
      "Epoch 29, CIFAR-10 Batch 1:  0.5892 0.671648\n",
      "Epoch 30, CIFAR-10 Batch 1:  0.6074 0.622331\n",
      "Epoch 31, CIFAR-10 Batch 1:  0.5938 0.624796\n",
      "Epoch 32, CIFAR-10 Batch 1:  0.6036 0.612219\n",
      "Epoch 33, CIFAR-10 Batch 1:  0.604 0.582795\n",
      "Epoch 34, CIFAR-10 Batch 1:  0.6136 0.545846\n",
      "Epoch 35, CIFAR-10 Batch 1:  0.5968 0.539212\n",
      "Epoch 36, CIFAR-10 Batch 1:  0.607 0.510313\n",
      "Epoch 37, CIFAR-10 Batch 1:  0.6176 0.477347\n",
      "Epoch 38, CIFAR-10 Batch 1:  0.596 0.511288\n",
      "Epoch 39, CIFAR-10 Batch 1:  0.5988 0.479004\n",
      "Epoch 40, CIFAR-10 Batch 1:  0.5994 0.49109\n",
      "Epoch 41, CIFAR-10 Batch 1:  0.6156 0.42385\n",
      "Epoch 42, CIFAR-10 Batch 1:  0.608 0.418968\n",
      "Epoch 43, CIFAR-10 Batch 1:  0.6122 0.375992\n",
      "Epoch 44, CIFAR-10 Batch 1:  0.6168 0.368878\n",
      "Epoch 45, CIFAR-10 Batch 1:  0.6136 0.35353\n",
      "Epoch 46, CIFAR-10 Batch 1:  0.6188 0.330577\n",
      "Epoch 47, CIFAR-10 Batch 1:  0.6114 0.379233\n",
      "Epoch 48, CIFAR-10 Batch 1:  0.6124 0.345782\n",
      "Epoch 49, CIFAR-10 Batch 1:  0.6074 0.378643\n",
      "Epoch 50, CIFAR-10 Batch 1:  0.6168 0.331845\n"
     ]
    }
   ],
   "source": [
    "\"\"\"\n",
    "DON'T MODIFY ANYTHING IN THIS CELL\n",
    "\"\"\"\n",
    "print('Checking the Training on a Single Batch...')\n",
    "with tf.Session() as sess:\n",
    "    # Initializing the variables\n",
    "    sess.run(tf.global_variables_initializer())\n",
    "    \n",
    "    # Training cycle\n",
    "    for epoch in range(epochs):\n",
    "        batch_i = 1\n",
    "        for batch_features, batch_labels in helper.load_preprocess_training_batch(batch_i, batch_size):\n",
    "            train_neural_network(sess, optimizer, keep_probability, batch_features, batch_labels)\n",
    "        print('Epoch {:>2}, CIFAR-10 Batch {}:  '.format(epoch + 1, batch_i), end='')\n",
    "        print_stats(sess, batch_features, batch_labels, cost, accuracy)"
   ]
  },
  {
   "cell_type": "markdown",
   "metadata": {},
   "source": [
    "### Fully Train the Model\n",
    "Now that you got a good accuracy with a single CIFAR-10 batch, try it with all five batches."
   ]
  },
  {
   "cell_type": "code",
   "execution_count": 24,
   "metadata": {
    "scrolled": false
   },
   "outputs": [
    {
     "name": "stdout",
     "output_type": "stream",
     "text": [
      "Training...\n",
      "Epoch  1, CIFAR-10 Batch 1:  0.164 2.22017\n",
      "Epoch  1, CIFAR-10 Batch 2:  0.2554 2.0598\n",
      "Epoch  1, CIFAR-10 Batch 3:  0.3032 1.8834\n",
      "Epoch  1, CIFAR-10 Batch 4:  0.3304 1.7594\n",
      "Epoch  1, CIFAR-10 Batch 5:  0.3626 1.72186\n",
      "Epoch  2, CIFAR-10 Batch 1:  0.3642 1.6748\n",
      "Epoch  2, CIFAR-10 Batch 2:  0.3766 1.66351\n",
      "Epoch  2, CIFAR-10 Batch 3:  0.4244 1.49526\n",
      "Epoch  2, CIFAR-10 Batch 4:  0.4462 1.48196\n",
      "Epoch  2, CIFAR-10 Batch 5:  0.4496 1.469\n",
      "Epoch  3, CIFAR-10 Batch 1:  0.4716 1.39372\n",
      "Epoch  3, CIFAR-10 Batch 2:  0.4646 1.43045\n",
      "Epoch  3, CIFAR-10 Batch 3:  0.4698 1.34923\n",
      "Epoch  3, CIFAR-10 Batch 4:  0.4916 1.33288\n",
      "Epoch  3, CIFAR-10 Batch 5:  0.512 1.28856\n",
      "Epoch  4, CIFAR-10 Batch 1:  0.5264 1.24655\n",
      "Epoch  4, CIFAR-10 Batch 2:  0.505 1.30263\n",
      "Epoch  4, CIFAR-10 Batch 3:  0.5166 1.22912\n",
      "Epoch  4, CIFAR-10 Batch 4:  0.5474 1.16155\n",
      "Epoch  4, CIFAR-10 Batch 5:  0.5586 1.14453\n",
      "Epoch  5, CIFAR-10 Batch 1:  0.5662 1.14566\n",
      "Epoch  5, CIFAR-10 Batch 2:  0.5264 1.21976\n",
      "Epoch  5, CIFAR-10 Batch 3:  0.5536 1.15414\n",
      "Epoch  5, CIFAR-10 Batch 4:  0.5744 1.07894\n",
      "Epoch  5, CIFAR-10 Batch 5:  0.586 1.04846\n",
      "Epoch  6, CIFAR-10 Batch 1:  0.5948 1.05583\n",
      "Epoch  6, CIFAR-10 Batch 2:  0.5694 1.09716\n",
      "Epoch  6, CIFAR-10 Batch 3:  0.5868 1.03525\n",
      "Epoch  6, CIFAR-10 Batch 4:  0.6018 0.999905\n",
      "Epoch  6, CIFAR-10 Batch 5:  0.6112 0.983857\n",
      "Epoch  7, CIFAR-10 Batch 1:  0.6116 0.992167\n",
      "Epoch  7, CIFAR-10 Batch 2:  0.5888 1.03511\n",
      "Epoch  7, CIFAR-10 Batch 3:  0.5768 1.06649\n",
      "Epoch  7, CIFAR-10 Batch 4:  0.6102 0.959261\n",
      "Epoch  7, CIFAR-10 Batch 5:  0.6118 0.95415\n",
      "Epoch  8, CIFAR-10 Batch 1:  0.6174 0.97591\n",
      "Epoch  8, CIFAR-10 Batch 2:  0.6132 0.995942\n",
      "Epoch  8, CIFAR-10 Batch 3:  0.6074 0.972474\n",
      "Epoch  8, CIFAR-10 Batch 4:  0.6242 0.908308\n",
      "Epoch  8, CIFAR-10 Batch 5:  0.6202 0.904677\n",
      "Epoch  9, CIFAR-10 Batch 1:  0.633 0.919648\n",
      "Epoch  9, CIFAR-10 Batch 2:  0.6354 0.931757\n",
      "Epoch  9, CIFAR-10 Batch 3:  0.6258 0.898742\n",
      "Epoch  9, CIFAR-10 Batch 4:  0.6382 0.863738\n",
      "Epoch  9, CIFAR-10 Batch 5:  0.6476 0.847901\n",
      "Epoch 10, CIFAR-10 Batch 1:  0.6532 0.867513\n",
      "Epoch 10, CIFAR-10 Batch 2:  0.651 0.87594\n",
      "Epoch 10, CIFAR-10 Batch 3:  0.6398 0.849491\n",
      "Epoch 10, CIFAR-10 Batch 4:  0.6464 0.814352\n",
      "Epoch 10, CIFAR-10 Batch 5:  0.6554 0.790659\n",
      "Epoch 11, CIFAR-10 Batch 1:  0.6616 0.824767\n",
      "Epoch 11, CIFAR-10 Batch 2:  0.6626 0.834412\n",
      "Epoch 11, CIFAR-10 Batch 3:  0.6476 0.774554\n",
      "Epoch 11, CIFAR-10 Batch 4:  0.66 0.776143\n",
      "Epoch 11, CIFAR-10 Batch 5:  0.661 0.759371\n",
      "Epoch 12, CIFAR-10 Batch 1:  0.6602 0.825577\n",
      "Epoch 12, CIFAR-10 Batch 2:  0.6718 0.785441\n",
      "Epoch 12, CIFAR-10 Batch 3:  0.659 0.762148\n",
      "Epoch 12, CIFAR-10 Batch 4:  0.6736 0.734095\n",
      "Epoch 12, CIFAR-10 Batch 5:  0.6708 0.7418\n",
      "Epoch 13, CIFAR-10 Batch 1:  0.671 0.790001\n",
      "Epoch 13, CIFAR-10 Batch 2:  0.6694 0.780705\n",
      "Epoch 13, CIFAR-10 Batch 3:  0.6522 0.781582\n",
      "Epoch 13, CIFAR-10 Batch 4:  0.6632 0.747042\n",
      "Epoch 13, CIFAR-10 Batch 5:  0.6692 0.736084\n",
      "Epoch 14, CIFAR-10 Batch 1:  0.6682 0.75475\n",
      "Epoch 14, CIFAR-10 Batch 2:  0.6642 0.781562\n",
      "Epoch 14, CIFAR-10 Batch 3:  0.6752 0.677741\n",
      "Epoch 14, CIFAR-10 Batch 4:  0.685 0.701589\n",
      "Epoch 14, CIFAR-10 Batch 5:  0.6856 0.677685\n",
      "Epoch 15, CIFAR-10 Batch 1:  0.6782 0.729918\n",
      "Epoch 15, CIFAR-10 Batch 2:  0.6802 0.720711\n",
      "Epoch 15, CIFAR-10 Batch 3:  0.678 0.668791\n",
      "Epoch 15, CIFAR-10 Batch 4:  0.6598 0.725543\n",
      "Epoch 15, CIFAR-10 Batch 5:  0.6902 0.664674\n",
      "Epoch 16, CIFAR-10 Batch 1:  0.6876 0.670321\n",
      "Epoch 16, CIFAR-10 Batch 2:  0.6878 0.682571\n",
      "Epoch 16, CIFAR-10 Batch 3:  0.6794 0.654271\n",
      "Epoch 16, CIFAR-10 Batch 4:  0.6886 0.637437\n",
      "Epoch 16, CIFAR-10 Batch 5:  0.6892 0.627177\n",
      "Epoch 17, CIFAR-10 Batch 1:  0.6972 0.661863\n",
      "Epoch 17, CIFAR-10 Batch 2:  0.6874 0.657596\n",
      "Epoch 17, CIFAR-10 Batch 3:  0.6874 0.61273\n",
      "Epoch 17, CIFAR-10 Batch 4:  0.6834 0.636968\n",
      "Epoch 17, CIFAR-10 Batch 5:  0.688 0.60873\n",
      "Epoch 18, CIFAR-10 Batch 1:  0.6966 0.631473\n",
      "Epoch 18, CIFAR-10 Batch 2:  0.7012 0.619028\n",
      "Epoch 18, CIFAR-10 Batch 3:  0.6978 0.578136\n",
      "Epoch 18, CIFAR-10 Batch 4:  0.6726 0.657243\n",
      "Epoch 18, CIFAR-10 Batch 5:  0.6964 0.603556\n",
      "Epoch 19, CIFAR-10 Batch 1:  0.6906 0.635411\n",
      "Epoch 19, CIFAR-10 Batch 2:  0.7002 0.598964\n",
      "Epoch 19, CIFAR-10 Batch 3:  0.7036 0.570034\n",
      "Epoch 19, CIFAR-10 Batch 4:  0.6934 0.589323\n",
      "Epoch 19, CIFAR-10 Batch 5:  0.706 0.537196\n",
      "Epoch 20, CIFAR-10 Batch 1:  0.6982 0.590154\n",
      "Epoch 20, CIFAR-10 Batch 2:  0.7084 0.579384\n",
      "Epoch 20, CIFAR-10 Batch 3:  0.701 0.553808\n",
      "Epoch 20, CIFAR-10 Batch 4:  0.6906 0.575703\n",
      "Epoch 20, CIFAR-10 Batch 5:  0.7044 0.533479\n",
      "Epoch 21, CIFAR-10 Batch 1:  0.7018 0.555341\n",
      "Epoch 21, CIFAR-10 Batch 2:  0.7082 0.562733\n",
      "Epoch 21, CIFAR-10 Batch 3:  0.708 0.501583\n",
      "Epoch 21, CIFAR-10 Batch 4:  0.6876 0.559208\n",
      "Epoch 21, CIFAR-10 Batch 5:  0.703 0.554779\n",
      "Epoch 22, CIFAR-10 Batch 1:  0.7072 0.53653\n",
      "Epoch 22, CIFAR-10 Batch 2:  0.7042 0.541314\n",
      "Epoch 22, CIFAR-10 Batch 3:  0.7072 0.489769\n",
      "Epoch 22, CIFAR-10 Batch 4:  0.7014 0.501024\n",
      "Epoch 22, CIFAR-10 Batch 5:  0.707 0.507419\n",
      "Epoch 23, CIFAR-10 Batch 1:  0.7014 0.531727\n",
      "Epoch 23, CIFAR-10 Batch 2:  0.6978 0.564419\n",
      "Epoch 23, CIFAR-10 Batch 3:  0.6988 0.512375\n",
      "Epoch 23, CIFAR-10 Batch 4:  0.694 0.500963\n",
      "Epoch 23, CIFAR-10 Batch 5:  0.6926 0.524935\n",
      "Epoch 24, CIFAR-10 Batch 1:  0.6918 0.539003\n",
      "Epoch 24, CIFAR-10 Batch 2:  0.7146 0.515143\n",
      "Epoch 24, CIFAR-10 Batch 3:  0.6962 0.492131\n",
      "Epoch 24, CIFAR-10 Batch 4:  0.6972 0.495388\n",
      "Epoch 24, CIFAR-10 Batch 5:  0.7048 0.495158\n",
      "Epoch 25, CIFAR-10 Batch 1:  0.6918 0.499765\n",
      "Epoch 25, CIFAR-10 Batch 2:  0.6968 0.5166\n",
      "Epoch 25, CIFAR-10 Batch 3:  0.6962 0.491255\n",
      "Epoch 25, CIFAR-10 Batch 4:  0.7074 0.44363\n",
      "Epoch 25, CIFAR-10 Batch 5:  0.7088 0.456207\n",
      "Epoch 26, CIFAR-10 Batch 1:  0.6996 0.504127\n",
      "Epoch 26, CIFAR-10 Batch 2:  0.711 0.481617\n",
      "Epoch 26, CIFAR-10 Batch 3:  0.7162 0.444114\n",
      "Epoch 26, CIFAR-10 Batch 4:  0.713 0.40839\n",
      "Epoch 26, CIFAR-10 Batch 5:  0.704 0.426439\n",
      "Epoch 27, CIFAR-10 Batch 1:  0.7014 0.474869\n",
      "Epoch 27, CIFAR-10 Batch 2:  0.7208 0.458025\n",
      "Epoch 27, CIFAR-10 Batch 3:  0.7076 0.424124\n",
      "Epoch 27, CIFAR-10 Batch 4:  0.7046 0.419402\n",
      "Epoch 27, CIFAR-10 Batch 5:  0.706 0.427633\n",
      "Epoch 28, CIFAR-10 Batch 1:  0.707 0.447734\n",
      "Epoch 28, CIFAR-10 Batch 2:  0.714 0.447677\n",
      "Epoch 28, CIFAR-10 Batch 3:  0.7114 0.395739\n",
      "Epoch 28, CIFAR-10 Batch 4:  0.6958 0.435315\n",
      "Epoch 28, CIFAR-10 Batch 5:  0.7018 0.424704\n",
      "Epoch 29, CIFAR-10 Batch 1:  0.7014 0.468901\n",
      "Epoch 29, CIFAR-10 Batch 2:  0.6962 0.489477\n",
      "Epoch 29, CIFAR-10 Batch 3:  0.7122 0.418131\n",
      "Epoch 29, CIFAR-10 Batch 4:  0.6996 0.441156\n",
      "Epoch 29, CIFAR-10 Batch 5:  0.7036 0.405284\n",
      "Epoch 30, CIFAR-10 Batch 1:  0.7058 0.428585\n",
      "Epoch 30, CIFAR-10 Batch 2:  0.703 0.466498\n",
      "Epoch 30, CIFAR-10 Batch 3:  0.705 0.424441\n",
      "Epoch 30, CIFAR-10 Batch 4:  0.7104 0.397039\n",
      "Epoch 30, CIFAR-10 Batch 5:  0.7192 0.378\n",
      "Epoch 31, CIFAR-10 Batch 1:  0.7074 0.415145\n",
      "Epoch 31, CIFAR-10 Batch 2:  0.704 0.430002\n",
      "Epoch 31, CIFAR-10 Batch 3:  0.7072 0.414886\n",
      "Epoch 31, CIFAR-10 Batch 4:  0.706 0.3864\n",
      "Epoch 31, CIFAR-10 Batch 5:  0.7144 0.375242\n",
      "Epoch 32, CIFAR-10 Batch 1:  0.718 0.406782\n",
      "Epoch 32, CIFAR-10 Batch 2:  0.7228 0.371844\n",
      "Epoch 32, CIFAR-10 Batch 3:  0.7102 0.377326\n",
      "Epoch 32, CIFAR-10 Batch 4:  0.7084 0.364187\n",
      "Epoch 32, CIFAR-10 Batch 5:  0.7034 0.390123\n",
      "Epoch 33, CIFAR-10 Batch 1:  0.7126 0.399054\n",
      "Epoch 33, CIFAR-10 Batch 2:  0.7134 0.389775\n",
      "Epoch 33, CIFAR-10 Batch 3:  0.7144 0.35058\n",
      "Epoch 33, CIFAR-10 Batch 4:  0.7056 0.346504\n",
      "Epoch 33, CIFAR-10 Batch 5:  0.715 0.340875\n",
      "Epoch 34, CIFAR-10 Batch 1:  0.7216 0.367248\n",
      "Epoch 34, CIFAR-10 Batch 2:  0.7154 0.379422\n",
      "Epoch 34, CIFAR-10 Batch 3:  0.718 0.323833\n",
      "Epoch 34, CIFAR-10 Batch 4:  0.7058 0.347423\n",
      "Epoch 34, CIFAR-10 Batch 5:  0.7166 0.318787\n",
      "Epoch 35, CIFAR-10 Batch 1:  0.7184 0.353369\n",
      "Epoch 35, CIFAR-10 Batch 2:  0.7098 0.363748\n",
      "Epoch 35, CIFAR-10 Batch 3:  0.7174 0.320742\n",
      "Epoch 35, CIFAR-10 Batch 4:  0.7196 0.316862\n",
      "Epoch 35, CIFAR-10 Batch 5:  0.7166 0.311183\n",
      "Epoch 36, CIFAR-10 Batch 1:  0.7158 0.319759\n",
      "Epoch 36, CIFAR-10 Batch 2:  0.7102 0.320386\n",
      "Epoch 36, CIFAR-10 Batch 3:  0.713 0.333601\n",
      "Epoch 36, CIFAR-10 Batch 4:  0.7142 0.306272\n",
      "Epoch 36, CIFAR-10 Batch 5:  0.7192 0.29982\n",
      "Epoch 37, CIFAR-10 Batch 1:  0.7206 0.317944\n",
      "Epoch 37, CIFAR-10 Batch 2:  0.7152 0.326888\n",
      "Epoch 37, CIFAR-10 Batch 3:  0.7144 0.31313\n",
      "Epoch 37, CIFAR-10 Batch 4:  0.709 0.30649\n",
      "Epoch 37, CIFAR-10 Batch 5:  0.7016 0.318913\n",
      "Epoch 38, CIFAR-10 Batch 1:  0.722 0.316216\n",
      "Epoch 38, CIFAR-10 Batch 2:  0.7204 0.297848\n",
      "Epoch 38, CIFAR-10 Batch 3:  0.7122 0.305922\n",
      "Epoch 38, CIFAR-10 Batch 4:  0.7116 0.275218\n",
      "Epoch 38, CIFAR-10 Batch 5:  0.7028 0.303153\n",
      "Epoch 39, CIFAR-10 Batch 1:  0.7104 0.328105\n",
      "Epoch 39, CIFAR-10 Batch 2:  0.7204 0.286755\n",
      "Epoch 39, CIFAR-10 Batch 3:  0.7064 0.313714\n",
      "Epoch 39, CIFAR-10 Batch 4:  0.71 0.288134\n",
      "Epoch 39, CIFAR-10 Batch 5:  0.7078 0.270643\n",
      "Epoch 40, CIFAR-10 Batch 1:  0.7074 0.333918\n",
      "Epoch 40, CIFAR-10 Batch 2:  0.7224 0.278516\n",
      "Epoch 40, CIFAR-10 Batch 3:  0.713 0.290134\n",
      "Epoch 40, CIFAR-10 Batch 4:  0.7126 0.266874\n",
      "Epoch 40, CIFAR-10 Batch 5:  0.7064 0.283339\n",
      "Epoch 41, CIFAR-10 Batch 1:  0.7126 0.310253\n",
      "Epoch 41, CIFAR-10 Batch 2:  0.698 0.310442\n",
      "Epoch 41, CIFAR-10 Batch 3:  0.722 0.265754\n",
      "Epoch 41, CIFAR-10 Batch 4:  0.7152 0.290531\n",
      "Epoch 41, CIFAR-10 Batch 5:  0.712 0.263744\n",
      "Epoch 42, CIFAR-10 Batch 1:  0.71 0.312467\n",
      "Epoch 42, CIFAR-10 Batch 2:  0.7048 0.287791\n",
      "Epoch 42, CIFAR-10 Batch 3:  0.7094 0.278586\n",
      "Epoch 42, CIFAR-10 Batch 4:  0.7082 0.265706\n",
      "Epoch 42, CIFAR-10 Batch 5:  0.7056 0.252623\n",
      "Epoch 43, CIFAR-10 Batch 1:  0.7112 0.300327\n",
      "Epoch 43, CIFAR-10 Batch 2:  0.7078 0.278623\n",
      "Epoch 43, CIFAR-10 Batch 3:  0.7136 0.262184\n",
      "Epoch 43, CIFAR-10 Batch 4:  0.7072 0.258262\n",
      "Epoch 43, CIFAR-10 Batch 5:  0.7066 0.272455\n",
      "Epoch 44, CIFAR-10 Batch 1:  0.7104 0.300831\n",
      "Epoch 44, CIFAR-10 Batch 2:  0.7074 0.255057\n",
      "Epoch 44, CIFAR-10 Batch 3:  0.7136 0.249103\n",
      "Epoch 44, CIFAR-10 Batch 4:  0.687 0.291508\n",
      "Epoch 44, CIFAR-10 Batch 5:  0.6942 0.283978\n",
      "Epoch 45, CIFAR-10 Batch 1:  0.7078 0.297901\n",
      "Epoch 45, CIFAR-10 Batch 2:  0.7108 0.24945\n",
      "Epoch 45, CIFAR-10 Batch 3:  0.7092 0.250504\n",
      "Epoch 45, CIFAR-10 Batch 4:  0.6958 0.260096\n",
      "Epoch 45, CIFAR-10 Batch 5:  0.706 0.261105\n",
      "Epoch 46, CIFAR-10 Batch 1:  0.7096 0.29328\n",
      "Epoch 46, CIFAR-10 Batch 2:  0.715 0.259956\n",
      "Epoch 46, CIFAR-10 Batch 3:  0.7054 0.254809\n",
      "Epoch 46, CIFAR-10 Batch 4:  0.6908 0.261251\n",
      "Epoch 46, CIFAR-10 Batch 5:  0.7052 0.252826\n",
      "Epoch 47, CIFAR-10 Batch 1:  0.7168 0.252154\n",
      "Epoch 47, CIFAR-10 Batch 2:  0.7198 0.255522\n",
      "Epoch 47, CIFAR-10 Batch 3:  0.7128 0.231309\n",
      "Epoch 47, CIFAR-10 Batch 4:  0.7014 0.224454\n",
      "Epoch 47, CIFAR-10 Batch 5:  0.6994 0.259785\n",
      "Epoch 48, CIFAR-10 Batch 1:  0.7084 0.283177\n",
      "Epoch 48, CIFAR-10 Batch 2:  0.7172 0.226451\n",
      "Epoch 48, CIFAR-10 Batch 3:  0.7032 0.254028\n",
      "Epoch 48, CIFAR-10 Batch 4:  0.6936 0.235159\n",
      "Epoch 48, CIFAR-10 Batch 5:  0.7 0.242144\n",
      "Epoch 49, CIFAR-10 Batch 1:  0.7108 0.268711\n",
      "Epoch 49, CIFAR-10 Batch 2:  0.7034 0.251987\n",
      "Epoch 49, CIFAR-10 Batch 3:  0.7136 0.224963\n",
      "Epoch 49, CIFAR-10 Batch 4:  0.6996 0.256774\n",
      "Epoch 49, CIFAR-10 Batch 5:  0.711 0.234187\n",
      "Epoch 50, CIFAR-10 Batch 1:  0.7098 0.2918\n",
      "Epoch 50, CIFAR-10 Batch 2:  0.7074 0.278474\n",
      "Epoch 50, CIFAR-10 Batch 3:  0.7084 0.231944\n",
      "Epoch 50, CIFAR-10 Batch 4:  0.705 0.236248\n",
      "Epoch 50, CIFAR-10 Batch 5:  0.7158 0.223621\n"
     ]
    }
   ],
   "source": [
    "\"\"\"\n",
    "DON'T MODIFY ANYTHING IN THIS CELL\n",
    "\"\"\"\n",
    "save_model_path = './image_classification'\n",
    "\n",
    "print('Training...')\n",
    "with tf.Session() as sess:\n",
    "    # Initializing the variables\n",
    "    sess.run(tf.global_variables_initializer())\n",
    "    \n",
    "    # Training cycle\n",
    "    for epoch in range(epochs):\n",
    "        # Loop over all batches\n",
    "        n_batches = 5\n",
    "        for batch_i in range(1, n_batches + 1):\n",
    "            for batch_features, batch_labels in helper.load_preprocess_training_batch(batch_i, batch_size):\n",
    "                train_neural_network(sess, optimizer, keep_probability, batch_features, batch_labels)\n",
    "            print('Epoch {:>2}, CIFAR-10 Batch {}:  '.format(epoch + 1, batch_i), end='')\n",
    "            print_stats(sess, batch_features, batch_labels, cost, accuracy)\n",
    "            \n",
    "    # Save Model\n",
    "    saver = tf.train.Saver()\n",
    "    save_path = saver.save(sess, save_model_path)"
   ]
  },
  {
   "cell_type": "markdown",
   "metadata": {},
   "source": [
    "# Checkpoint\n",
    "The model has been saved to disk.\n",
    "## Test Model\n",
    "Test your model against the test dataset.  This will be your final accuracy. You should have an accuracy greater than 50%. If you don't, keep tweaking the model architecture and parameters."
   ]
  },
  {
   "cell_type": "code",
   "execution_count": 25,
   "metadata": {},
   "outputs": [
    {
     "name": "stdout",
     "output_type": "stream",
     "text": [
      "Testing Accuracy: 0.7156090617179871\n",
      "\n"
     ]
    },
    {
     "data": {
      "image/png": "[encoded data removed]",
      "text/plain": [
       "<matplotlib.figure.Figure at 0x1fa1f9bd240>"
      ]
     },
     "metadata": {
      "image/png": {
       "height": 319,
       "width": 355
      }
     },
     "output_type": "display_data"
    }
   ],
   "source": [
    "\"\"\"\n",
    "DON'T MODIFY ANYTHING IN THIS CELL\n",
    "\"\"\"\n",
    "%matplotlib inline\n",
    "%config InlineBackend.figure_format = 'retina'\n",
    "\n",
    "import tensorflow as tf\n",
    "import pickle\n",
    "import helper\n",
    "import random\n",
    "\n",
    "# Set batch size if not already set\n",
    "try:\n",
    "    if batch_size:\n",
    "        pass\n",
    "except NameError:\n",
    "    batch_size = 64\n",
    "\n",
    "save_model_path = './image_classification'\n",
    "n_samples = 4\n",
    "top_n_predictions = 3\n",
    "\n",
    "def test_model():\n",
    "    \"\"\"\n",
    "    Test the saved model against the test dataset\n",
    "    \"\"\"\n",
    "\n",
    "    test_features, test_labels = pickle.load(open('preprocess_training.p', mode='rb'))\n",
    "    loaded_graph = tf.Graph()\n",
    "\n",
    "    with tf.Session(graph=loaded_graph) as sess:\n",
    "        # Load model\n",
    "        loader = tf.train.import_meta_graph(save_model_path + '.meta')\n",
    "        loader.restore(sess, save_model_path)\n",
    "\n",
    "        # Get Tensors from loaded model\n",
    "        loaded_x = loaded_graph.get_tensor_by_name('x:0')\n",
    "        loaded_y = loaded_graph.get_tensor_by_name('y:0')\n",
    "        loaded_keep_prob = loaded_graph.get_tensor_by_name('keep_prob:0')\n",
    "        loaded_logits = loaded_graph.get_tensor_by_name('logits:0')\n",
    "        loaded_acc = loaded_graph.get_tensor_by_name('accuracy:0')\n",
    "        \n",
    "        # Get accuracy in batches for memory limitations\n",
    "        test_batch_acc_total = 0\n",
    "        test_batch_count = 0\n",
    "        \n",
    "        for train_feature_batch, train_label_batch in helper.batch_features_labels(test_features, test_labels, batch_size):\n",
    "            test_batch_acc_total += sess.run(\n",
    "                loaded_acc,\n",
    "                feed_dict={loaded_x: train_feature_batch, loaded_y: train_label_batch, loaded_keep_prob: 1.0})\n",
    "            test_batch_count += 1\n",
    "\n",
    "        print('Testing Accuracy: {}\\n'.format(test_batch_acc_total/test_batch_count))\n",
    "\n",
    "        # Print Random Samples\n",
    "        random_test_features, random_test_labels = tuple(zip(*random.sample(list(zip(test_features, test_labels)), n_samples)))\n",
    "        random_test_predictions = sess.run(\n",
    "            tf.nn.top_k(tf.nn.softmax(loaded_logits), top_n_predictions),\n",
    "            feed_dict={loaded_x: random_test_features, loaded_y: random_test_labels, loaded_keep_prob: 1.0})\n",
    "        helper.display_image_predictions(random_test_features, random_test_labels, random_test_predictions)\n",
    "\n",
    "\n",
    "test_model()"
   ]
  },
  {
   "cell_type": "markdown",
   "metadata": {},
   "source": [
    "## Why 50-80% Accuracy?\n",
    "You might be wondering why you can't get an accuracy any higher. First things first, 50% isn't bad for a simple CNN.  Pure guessing would get you 10% accuracy. However, you might notice people are getting scores [well above 80%](http://rodrigob.github.io/are_we_there_yet/build/classification_datasets_results.html#43494641522d3130).  That's because we haven't taught you all there is to know about neural networks. We still need to cover a few more techniques.\n",
    "## Submitting This Project\n",
    "When submitting this project, make sure to run all the cells before saving the notebook.  Save the notebook file as \"dlnd_image_classification.ipynb\" and save it as a HTML file under \"File\" -> \"Download as\".  Include the \"helper.py\" and \"problem_unittests.py\" files in your submission."
   ]
  }
 ],
 "metadata": {
  "kernelspec": {
   "display_name": "Python 3",
   "language": "python",
   "name": "python3"
  },
  "language_info": {
   "codemirror_mode": {
    "name": "ipython",
    "version": 3
   },
   "file_extension": ".py",
   "mimetype": "text/x-python",
   "name": "python",
   "nbconvert_exporter": "python",
   "pygments_lexer": "ipython3",
   "version": "3.6.4"
  },
  "widgets": {
   "state": {},
   "version": "1.1.2"
  }
 },
 "nbformat": 4,
 "nbformat_minor": 1
}
